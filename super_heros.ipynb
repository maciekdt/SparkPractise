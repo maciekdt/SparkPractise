{
 "cells": [
  {
   "cell_type": "code",
   "execution_count": 28,
   "metadata": {},
   "outputs": [],
   "source": [
    "import findspark\n",
    "from pyspark import SparkContext\n",
    "from pyspark.sql import SparkSession\n",
    "from pyspark.sql import functions as func\n",
    "from pyspark.sql import types\n",
    "\n",
    "findspark.init()\n",
    "\n",
    "spark: SparkSession = SparkSession.builder \\\n",
    "    .appName(\"JupyterLocalSpark\") \\\n",
    "    .master(\"local[*]\") \\\n",
    "    .getOrCreate()\n",
    "\n",
    "sc: SparkContext = spark.sparkContext"
   ]
  },
  {
   "cell_type": "code",
   "execution_count": 29,
   "metadata": {},
   "outputs": [
    {
     "name": "stdout",
     "output_type": "stream",
     "text": [
      "+------+--------------------+\n",
      "|heroID|            heroName|\n",
      "+------+--------------------+\n",
      "|     1|24-HOUR MAN/EMMANUEL|\n",
      "|     2|3-D MAN/CHARLES CHAN|\n",
      "|     3|    4-D MAN/MERCURIO|\n",
      "|     4|             8-BALL/|\n",
      "|     5|                   A|\n",
      "+------+--------------------+\n",
      "only showing top 5 rows\n",
      "\n"
     ]
    }
   ],
   "source": [
    "movies_schema = types.StructType([ \\\n",
    "    types.StructField(\"heroID\", types.IntegerType(), nullable=False),\n",
    "    types.StructField(\"heroName\", types.StringType(), nullable=False),\n",
    "])\n",
    "\n",
    "df_names = spark.read.option(\"sep\", ' ').schema(movies_schema).csv(\"data/Marvel+Names\")\n",
    "df_names.show(5)"
   ]
  },
  {
   "cell_type": "code",
   "execution_count": 30,
   "metadata": {},
   "outputs": [
    {
     "name": "stdout",
     "output_type": "stream",
     "text": [
      "+--------------------+\n",
      "|               value|\n",
      "+--------------------+\n",
      "|5988 748 1722 375...|\n",
      "|5989 4080 4264 44...|\n",
      "|5982 217 595 1194...|\n",
      "|5983 1165 3836 43...|\n",
      "|5980 2731 3712 15...|\n",
      "+--------------------+\n",
      "only showing top 5 rows\n",
      "\n"
     ]
    }
   ],
   "source": [
    "df_heros = spark.read.text(\"data/Marvel+Graph\")\n",
    "df_heros.show(5)"
   ]
  },
  {
   "cell_type": "code",
   "execution_count": 31,
   "metadata": {},
   "outputs": [
    {
     "name": "stdout",
     "output_type": "stream",
     "text": [
      "+------+----------+\n",
      "|heroID|herosCount|\n",
      "+------+----------+\n",
      "|  5988|        50|\n",
      "|   748|        50|\n",
      "|  1722|        50|\n",
      "|  3752|        50|\n",
      "|  4655|        50|\n",
      "+------+----------+\n",
      "only showing top 5 rows\n",
      "\n"
     ]
    }
   ],
   "source": [
    "df_heros = df_heros.select(\n",
    "    func.explode(func.split(\"value\", \" \")).alias(\"heroID\"),\n",
    "    func.size(func.split(\"value\", \" \")).alias(\"herosCount\")\n",
    ").filter(func.col(\"heroID\") != \"\")\n",
    "\n",
    "df_heros.show(5)"
   ]
  },
  {
   "cell_type": "code",
   "execution_count": 32,
   "metadata": {},
   "outputs": [
    {
     "name": "stdout",
     "output_type": "stream",
     "text": [
      "+------+------+\n",
      "|heroID|relSum|\n",
      "+------+------+\n",
      "|  2069| 66190|\n",
      "|  3210| 38761|\n",
      "|   829| 11360|\n",
      "|  6194|  2997|\n",
      "|  4821|  1447|\n",
      "+------+------+\n",
      "only showing top 5 rows\n",
      "\n"
     ]
    }
   ],
   "source": [
    "df_heros = df_heros \\\n",
    "    .groupBy(\"heroID\") \\\n",
    "    .sum(\"herosCount\") \\\n",
    "    .select(\"heroID\", func.col(\"sum(herosCount)\").alias(\"relSum\"))\n",
    "    \n",
    "df_heros.show(5)"
   ]
  },
  {
   "cell_type": "code",
   "execution_count": 33,
   "metadata": {},
   "outputs": [
    {
     "name": "stdout",
     "output_type": "stream",
     "text": [
      "+--------------------+------+\n",
      "|            heroName|relSum|\n",
      "+--------------------+------+\n",
      "|     CAPTAIN AMERICA|215651|\n",
      "|SPIDER-MAN/PETER PAR|192498|\n",
      "|IRON MAN/TONY STARK |186668|\n",
      "|MR. FANTASTIC/REED R|184199|\n",
      "|THING/BENJAMIN J. GR|183898|\n",
      "|SCARLET WITCH/WANDA |175000|\n",
      "|HUMAN TORCH/JOHNNY S|174822|\n",
      "|BEAST/HENRY &HANK& P|174576|\n",
      "|    WOLVERINE/LOGAN |173673|\n",
      "|INVISIBLE WOMAN/SUE |172938|\n",
      "+--------------------+------+\n",
      "only showing top 10 rows\n",
      "\n"
     ]
    }
   ],
   "source": [
    "df_heros = df_heros \\\n",
    "    .join(df_names, on=\"heroID\", how=\"left\") \\\n",
    "    .select(\"heroName\", \"relSum\") \\\n",
    "    .sort(func.desc(\"relSum\"))\n",
    "    \n",
    "df_heros.show(10)"
   ]
  }
 ],
 "metadata": {
  "kernelspec": {
   "display_name": "Python 3",
   "language": "python",
   "name": "python3"
  },
  "language_info": {
   "codemirror_mode": {
    "name": "ipython",
    "version": 3
   },
   "file_extension": ".py",
   "mimetype": "text/x-python",
   "name": "python",
   "nbconvert_exporter": "python",
   "pygments_lexer": "ipython3",
   "version": "3.10.11"
  }
 },
 "nbformat": 4,
 "nbformat_minor": 2
}

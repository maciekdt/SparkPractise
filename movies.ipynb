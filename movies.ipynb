{
 "cells": [
  {
   "cell_type": "code",
   "execution_count": 27,
   "metadata": {},
   "outputs": [],
   "source": [
    "import findspark\n",
    "from pyspark import SparkContext\n",
    "from pyspark.sql import SparkSession\n",
    "from pyspark.sql import functions as func\n",
    "from pyspark.sql import types\n",
    "\n",
    "findspark.init()\n",
    "\n",
    "spark: SparkSession = SparkSession.builder \\\n",
    "    .appName(\"JupyterLocalSpark\") \\\n",
    "    .master(\"local[*]\") \\\n",
    "    .getOrCreate()\n",
    "\n",
    "sc: SparkContext = spark.sparkContext"
   ]
  },
  {
   "cell_type": "code",
   "execution_count": 39,
   "metadata": {},
   "outputs": [
    {
     "name": "stdout",
     "output_type": "stream",
     "text": [
      "+-------+-----------------+\n",
      "|movieID|        movieName|\n",
      "+-------+-----------------+\n",
      "|      1| Toy Story (1995)|\n",
      "|      2| GoldenEye (1995)|\n",
      "|      3|Four Rooms (1995)|\n",
      "|      4|Get Shorty (1995)|\n",
      "|      5|   Copycat (1995)|\n",
      "+-------+-----------------+\n",
      "only showing top 5 rows\n",
      "\n"
     ]
    }
   ],
   "source": [
    "movies_schema = types.StructType([ \\\n",
    "    types.StructField(\"movieID\", types.IntegerType(), nullable=False),\n",
    "    types.StructField(\"movieName\", types.StringType(), nullable=False),\n",
    "])\n",
    "\n",
    "df_movies = spark.read.option(\"sep\", '|').schema(movies_schema).csv(\"data/ml-100k/u.item\")\n",
    "df_movies.show(5)"
   ]
  },
  {
   "cell_type": "code",
   "execution_count": 40,
   "metadata": {},
   "outputs": [
    {
     "name": "stdout",
     "output_type": "stream",
     "text": [
      "+------+-------+------+---------+\n",
      "|userID|movieID|rating|timestamp|\n",
      "+------+-------+------+---------+\n",
      "|   196|    242|     3|881250949|\n",
      "|   186|    302|     3|891717742|\n",
      "|    22|    377|     1|878887116|\n",
      "|   244|     51|     2|880606923|\n",
      "|   166|    346|     1|886397596|\n",
      "+------+-------+------+---------+\n",
      "only showing top 5 rows\n",
      "\n"
     ]
    }
   ],
   "source": [
    "schema = types.StructType([ \\\n",
    "    types.StructField(\"userID\", types.IntegerType(), False), \\\n",
    "    types.StructField(\"movieID\", types.IntegerType(), False), \\\n",
    "    types.StructField(\"rating\", types.IntegerType(), True), \\\n",
    "    types.StructField(\"timestamp\", types.LongType(), True)\n",
    "])\n",
    "\n",
    "df_reviews = spark.read.option(\"sep\", \"\\t\").schema(schema).csv(\"data/ml-100k/u.data\")\n",
    "df_reviews.show(5)"
   ]
  },
  {
   "cell_type": "code",
   "execution_count": 32,
   "metadata": {},
   "outputs": [
    {
     "name": "stdout",
     "output_type": "stream",
     "text": [
      "+-------+------+------+---------+--------------------+\n",
      "|movieID|userID|rating|timestamp|           movieName|\n",
      "+-------+------+------+---------+--------------------+\n",
      "|    242|   196|     3|881250949|        Kolya (1996)|\n",
      "|    302|   186|     3|891717742|L.A. Confidential...|\n",
      "|    377|    22|     1|878887116| Heavyweights (1994)|\n",
      "|     51|   244|     2|880606923|Legends of the Fa...|\n",
      "|    346|   166|     1|886397596| Jackie Brown (1997)|\n",
      "+-------+------+------+---------+--------------------+\n",
      "only showing top 5 rows\n",
      "\n"
     ]
    }
   ],
   "source": [
    "df_reviews = df_reviews.join(func.broadcast(df_movies), on=\"movieID\")\n",
    "df_reviews.show(5)"
   ]
  },
  {
   "cell_type": "code",
   "execution_count": 38,
   "metadata": {},
   "outputs": [
    {
     "name": "stdout",
     "output_type": "stream",
     "text": [
      "+--------------------+-------+-----+\n",
      "|           movieName|movieID|count|\n",
      "+--------------------+-------+-----+\n",
      "|    Star Wars (1977)|     50|  583|\n",
      "|      Contact (1997)|    258|  509|\n",
      "|        Fargo (1996)|    100|  508|\n",
      "|Return of the Jed...|    181|  507|\n",
      "|    Liar Liar (1997)|    294|  485|\n",
      "+--------------------+-------+-----+\n",
      "only showing top 5 rows\n",
      "\n"
     ]
    }
   ],
   "source": [
    "df_reviews = df_reviews \\\n",
    "    .select(\"movieName\", \"movieID\") \\\n",
    "    .groupBy(\"movieName\", \"movieID\") \\\n",
    "    .count().sort(func.desc(\"count\")) \n",
    "\n",
    "df_reviews.show(5)"
   ]
  }
 ],
 "metadata": {
  "kernelspec": {
   "display_name": "Python 3",
   "language": "python",
   "name": "python3"
  },
  "language_info": {
   "codemirror_mode": {
    "name": "ipython",
    "version": 3
   },
   "file_extension": ".py",
   "mimetype": "text/x-python",
   "name": "python",
   "nbconvert_exporter": "python",
   "pygments_lexer": "ipython3",
   "version": "3.10.11"
  }
 },
 "nbformat": 4,
 "nbformat_minor": 2
}

{
 "cells": [
  {
   "cell_type": "code",
   "execution_count": 1,
   "metadata": {},
   "outputs": [],
   "source": [
    "import findspark\n",
    "import collections\n",
    "from pyspark import SparkContext\n",
    "from pyspark.sql import SparkSession\n",
    "\n",
    "findspark.init()\n",
    "\n",
    "spark = SparkSession.builder \\\n",
    "    .appName(\"JupyterLocalSpark\") \\\n",
    "    .master(\"local[*]\") \\\n",
    "    .getOrCreate()\n",
    "\n",
    "sc: SparkContext = spark.sparkContext"
   ]
  },
  {
   "cell_type": "code",
   "execution_count": 2,
   "metadata": {},
   "outputs": [
    {
     "data": {
      "text/plain": [
       "['0,Will,33,385',\n",
       " '1,Jean-Luc,26,2',\n",
       " '2,Hugh,55,221',\n",
       " '3,Deanna,40,465',\n",
       " '4,Quark,68,21']"
      ]
     },
     "execution_count": 2,
     "metadata": {},
     "output_type": "execute_result"
    }
   ],
   "source": [
    "lines = sc.textFile(\"data/fakefriends.csv\")\n",
    "lines.take(5)"
   ]
  },
  {
   "cell_type": "code",
   "execution_count": 3,
   "metadata": {},
   "outputs": [
    {
     "data": {
      "text/plain": [
       "[Row(ID=0, name=\"b'Will'\", age=33, numFriends=385),\n",
       " Row(ID=1, name=\"b'Jean-Luc'\", age=26, numFriends=2),\n",
       " Row(ID=2, name=\"b'Hugh'\", age=55, numFriends=221),\n",
       " Row(ID=3, name=\"b'Deanna'\", age=40, numFriends=465),\n",
       " Row(ID=4, name=\"b'Quark'\", age=68, numFriends=21)]"
      ]
     },
     "execution_count": 3,
     "metadata": {},
     "output_type": "execute_result"
    }
   ],
   "source": [
    "from pyspark.sql import Row\n",
    "\n",
    "def transform(line:str):\n",
    "    line = line.split(',')\n",
    "    return Row(\n",
    "        ID=int(line[0]),\n",
    "        name=str(line[1].encode(\"utf-8\")),\n",
    "        age=int(line[2]),\n",
    "        numFriends=int(line[3])\n",
    "    )\n",
    "    \n",
    "rdd = lines.map(transform)\n",
    "rdd.take(5)"
   ]
  },
  {
   "cell_type": "code",
   "execution_count": 4,
   "metadata": {},
   "outputs": [],
   "source": [
    "schemaPeople = spark.createDataFrame(rdd).cache()\n",
    "schemaPeople.createOrReplaceTempView(\"people\")"
   ]
  },
  {
   "cell_type": "code",
   "execution_count": 5,
   "metadata": {},
   "outputs": [
    {
     "data": {
      "text/plain": [
       "[Row(ID=21, name=\"b'Miles'\", age=19, numFriends=268),\n",
       " Row(ID=52, name=\"b'Beverly'\", age=19, numFriends=269),\n",
       " Row(ID=54, name=\"b'Brunt'\", age=19, numFriends=5),\n",
       " Row(ID=106, name=\"b'Beverly'\", age=18, numFriends=499),\n",
       " Row(ID=115, name=\"b'Dukat'\", age=18, numFriends=397)]"
      ]
     },
     "execution_count": 5,
     "metadata": {},
     "output_type": "execute_result"
    }
   ],
   "source": [
    "teenagers = spark.sql(\n",
    "    \"\"\"\n",
    "        SELECT * \n",
    "        FROM people \n",
    "        WHERE age >= 13 AND age <= 19\n",
    "    \"\"\")\n",
    "\n",
    "teenagers.take(5)"
   ]
  },
  {
   "cell_type": "code",
   "execution_count": null,
   "metadata": {},
   "outputs": [],
   "source": []
  }
 ],
 "metadata": {
  "kernelspec": {
   "display_name": "Python 3",
   "language": "python",
   "name": "python3"
  },
  "language_info": {
   "codemirror_mode": {
    "name": "ipython",
    "version": 3
   },
   "file_extension": ".py",
   "mimetype": "text/x-python",
   "name": "python",
   "nbconvert_exporter": "python",
   "pygments_lexer": "ipython3",
   "version": "3.10.11"
  }
 },
 "nbformat": 4,
 "nbformat_minor": 2
}
